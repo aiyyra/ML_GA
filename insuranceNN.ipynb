{
 "cells": [
  {
   "cell_type": "code",
   "execution_count": 1,
   "metadata": {},
   "outputs": [],
   "source": [
    "import numpy as np\n",
    "import pandas as pd\n",
    "import matplotlib.pyplot as plt\n",
    "from sklearn.model_selection import train_test_split \n",
    "from sklearn.preprocessing import StandardScaler\n",
    "import tensorflow as tf\n",
    "\n",
    "import seaborn as sns\n",
    "\n",
    "from tensorflow.keras import Model\n",
    "from tensorflow.keras import Sequential\n",
    "from tensorflow.keras.optimizers import Adam\n",
    "from tensorflow.keras.layers import Dense, Dropout\n",
    "from tensorflow.keras.losses import MeanSquaredLogarithmicError\n",
    "from sklearn.metrics import mean_absolute_error,mean_squared_error,r2_score"
   ]
  },
  {
   "cell_type": "code",
   "execution_count": 7,
   "metadata": {},
   "outputs": [
    {
     "data": {
      "text/html": [
       "<div>\n",
       "<style scoped>\n",
       "    .dataframe tbody tr th:only-of-type {\n",
       "        vertical-align: middle;\n",
       "    }\n",
       "\n",
       "    .dataframe tbody tr th {\n",
       "        vertical-align: top;\n",
       "    }\n",
       "\n",
       "    .dataframe thead th {\n",
       "        text-align: right;\n",
       "    }\n",
       "</style>\n",
       "<table border=\"1\" class=\"dataframe\">\n",
       "  <thead>\n",
       "    <tr style=\"text-align: right;\">\n",
       "      <th></th>\n",
       "      <th>index</th>\n",
       "      <th>PatientID</th>\n",
       "      <th>age</th>\n",
       "      <th>gender</th>\n",
       "      <th>bmi</th>\n",
       "      <th>bloodpressure</th>\n",
       "      <th>diabetic</th>\n",
       "      <th>children</th>\n",
       "      <th>smoker</th>\n",
       "      <th>region</th>\n",
       "      <th>claim</th>\n",
       "    </tr>\n",
       "  </thead>\n",
       "  <tbody>\n",
       "    <tr>\n",
       "      <th>0</th>\n",
       "      <td>0</td>\n",
       "      <td>1</td>\n",
       "      <td>39.0</td>\n",
       "      <td>male</td>\n",
       "      <td>23.2</td>\n",
       "      <td>91</td>\n",
       "      <td>Yes</td>\n",
       "      <td>0</td>\n",
       "      <td>No</td>\n",
       "      <td>southeast</td>\n",
       "      <td>1121.87</td>\n",
       "    </tr>\n",
       "    <tr>\n",
       "      <th>1</th>\n",
       "      <td>1</td>\n",
       "      <td>2</td>\n",
       "      <td>24.0</td>\n",
       "      <td>male</td>\n",
       "      <td>30.1</td>\n",
       "      <td>87</td>\n",
       "      <td>No</td>\n",
       "      <td>0</td>\n",
       "      <td>No</td>\n",
       "      <td>southeast</td>\n",
       "      <td>1131.51</td>\n",
       "    </tr>\n",
       "    <tr>\n",
       "      <th>2</th>\n",
       "      <td>2</td>\n",
       "      <td>3</td>\n",
       "      <td>NaN</td>\n",
       "      <td>male</td>\n",
       "      <td>33.3</td>\n",
       "      <td>82</td>\n",
       "      <td>Yes</td>\n",
       "      <td>0</td>\n",
       "      <td>No</td>\n",
       "      <td>southeast</td>\n",
       "      <td>1135.94</td>\n",
       "    </tr>\n",
       "    <tr>\n",
       "      <th>3</th>\n",
       "      <td>3</td>\n",
       "      <td>4</td>\n",
       "      <td>NaN</td>\n",
       "      <td>male</td>\n",
       "      <td>33.7</td>\n",
       "      <td>80</td>\n",
       "      <td>No</td>\n",
       "      <td>0</td>\n",
       "      <td>No</td>\n",
       "      <td>northwest</td>\n",
       "      <td>1136.40</td>\n",
       "    </tr>\n",
       "    <tr>\n",
       "      <th>4</th>\n",
       "      <td>4</td>\n",
       "      <td>5</td>\n",
       "      <td>NaN</td>\n",
       "      <td>male</td>\n",
       "      <td>34.1</td>\n",
       "      <td>100</td>\n",
       "      <td>No</td>\n",
       "      <td>0</td>\n",
       "      <td>No</td>\n",
       "      <td>northwest</td>\n",
       "      <td>1137.01</td>\n",
       "    </tr>\n",
       "  </tbody>\n",
       "</table>\n",
       "</div>"
      ],
      "text/plain": [
       "   index  PatientID   age gender   bmi  bloodpressure diabetic  children  \\\n",
       "0      0          1  39.0   male  23.2             91      Yes         0   \n",
       "1      1          2  24.0   male  30.1             87       No         0   \n",
       "2      2          3   NaN   male  33.3             82      Yes         0   \n",
       "3      3          4   NaN   male  33.7             80       No         0   \n",
       "4      4          5   NaN   male  34.1            100       No         0   \n",
       "\n",
       "  smoker     region    claim  \n",
       "0     No  southeast  1121.87  \n",
       "1     No  southeast  1131.51  \n",
       "2     No  southeast  1135.94  \n",
       "3     No  northwest  1136.40  \n",
       "4     No  northwest  1137.01  "
      ]
     },
     "execution_count": 7,
     "metadata": {},
     "output_type": "execute_result"
    }
   ],
   "source": [
    "df = pd.read_csv('insurance_data.csv')\n",
    "\n",
    "## could seperate this box \n",
    "df.isna().sum()\n",
    "newdf = df.dropna()\n",
    "# newdf = newdf.drop(axis=1,columns=['index','PatientID'])\n",
    "\n",
    "df.head()"
   ]
  },
  {
   "cell_type": "code",
   "execution_count": 8,
   "metadata": {},
   "outputs": [
    {
     "name": "stderr",
     "output_type": "stream",
     "text": [
      "<ipython-input-8-4c5b7dc5c053>:5: SettingWithCopyWarning: \n",
      "A value is trying to be set on a copy of a slice from a DataFrame.\n",
      "Try using .loc[row_indexer,col_indexer] = value instead\n",
      "\n",
      "See the caveats in the documentation: https://pandas.pydata.org/pandas-docs/stable/user_guide/indexing.html#returning-a-view-versus-a-copy\n",
      "  newdf.gender = [Gender[item] for item in newdf['gender']]\n",
      "<ipython-input-8-4c5b7dc5c053>:6: SettingWithCopyWarning: \n",
      "A value is trying to be set on a copy of a slice from a DataFrame.\n",
      "Try using .loc[row_indexer,col_indexer] = value instead\n",
      "\n",
      "See the caveats in the documentation: https://pandas.pydata.org/pandas-docs/stable/user_guide/indexing.html#returning-a-view-versus-a-copy\n",
      "  newdf.diabetic = [boolean[item] for item in newdf.diabetic]\n",
      "<ipython-input-8-4c5b7dc5c053>:7: SettingWithCopyWarning: \n",
      "A value is trying to be set on a copy of a slice from a DataFrame.\n",
      "Try using .loc[row_indexer,col_indexer] = value instead\n",
      "\n",
      "See the caveats in the documentation: https://pandas.pydata.org/pandas-docs/stable/user_guide/indexing.html#returning-a-view-versus-a-copy\n",
      "  newdf.smoker = [boolean[item] for item in newdf.smoker]\n",
      "<ipython-input-8-4c5b7dc5c053>:8: SettingWithCopyWarning: \n",
      "A value is trying to be set on a copy of a slice from a DataFrame.\n",
      "Try using .loc[row_indexer,col_indexer] = value instead\n",
      "\n",
      "See the caveats in the documentation: https://pandas.pydata.org/pandas-docs/stable/user_guide/indexing.html#returning-a-view-versus-a-copy\n",
      "  newdf.region = [Region[item] for item in newdf.region]\n"
     ]
    }
   ],
   "source": [
    "# changing data to be all numerical value\n",
    "Gender = {'male':0,'female':1}\n",
    "boolean = {'Yes':0,'No':1}\n",
    "Region = {'southeast':1,'northeast':2,'southwest':3,'northwest':4}\n",
    "newdf.gender = [Gender[item] for item in newdf['gender']]\n",
    "newdf.diabetic = [boolean[item] for item in newdf.diabetic]\n",
    "newdf.smoker = [boolean[item] for item in newdf.smoker]\n",
    "newdf.region = [Region[item] for item in newdf.region]"
   ]
  },
  {
   "cell_type": "code",
   "execution_count": 9,
   "metadata": {},
   "outputs": [
    {
     "name": "stdout",
     "output_type": "stream",
     "text": [
      "Outliers:  [array([34828.65, 34838.87, 35069.37, 35147.53, 35160.13, 35491.64,\n",
      "       35585.58, 35595.59, 36021.01, 36085.22, 36124.57, 36149.48,\n",
      "       36189.1, 36197.7, 36219.41, 36307.8, 36397.58, 36580.28, 36837.47,\n",
      "       36898.73, 36910.61, 36950.26, 37079.37, 37133.9, 37165.16,\n",
      "       37270.15, 37465.34, 37484.45, 37607.53, 37701.88, 37742.58,\n",
      "       37829.72, 38126.25, 38245.59, 38282.75, 38344.57, 38415.47,\n",
      "       38511.63, 38709.18, 38711.0, 38746.36, 38792.69, 38998.55,\n",
      "       39047.29, 39125.33, 39241.44, 39556.49, 39597.41, 39611.76,\n",
      "       39722.75, 39725.52, 39727.61, 39774.28, 39836.52, 39871.7,\n",
      "       39983.43, 40003.33, 40103.89, 40182.25, 40273.65, 40419.02,\n",
      "       40720.55, 40904.2, 40932.43, 40941.29, 40974.16, 41034.22,\n",
      "       41097.16, 41661.6, 41676.08, 41919.1, 41949.24, 41999.52, 42111.66,\n",
      "       42112.24, 42124.52, 42211.14, 42303.69, 42560.43, 42760.5,\n",
      "       42856.84, 42969.85, 42983.46, 43254.42, 43578.94, 43753.34,\n",
      "       43813.87, 43896.38, 43921.18, 43943.88, 44202.65, 44260.75,\n",
      "       44400.41, 44423.8, 44501.4, 44585.46, 44641.2, 45008.96, 45702.02,\n",
      "       45710.21, 45863.21, 46113.51, 46130.53, 46151.12, 46200.99,\n",
      "       46255.11, 46599.11, 46661.44, 46718.16, 46889.26, 47055.53,\n",
      "       47269.85, 47291.06, 47305.31, 47403.88, 47462.89, 47496.49,\n",
      "       47896.79, 47928.03, 48173.36, 48517.56, 48549.18, 48673.56,\n",
      "       48675.52, 48824.45, 48885.14, 48970.25, 49577.66, 51194.56,\n",
      "       52590.83, 55135.4, 58571.07, 60021.4, 62592.87, 63770.43],\n",
      "      dtype=object)]\n",
      "(1, 135)\n",
      "Boxes:  [array([ 4760.1575,  4760.1575, 16781.3275, 16781.3275,  4760.1575])]\n",
      "Medians:  [array([9412.965, 9412.965])]\n",
      "Whiskers:  [array([4760.1575, 1121.87  ]), array([16781.3275, 34806.47  ])]\n"
     ]
    },
    {
     "data": {
      "image/png": "[encoded data removed]",
      "text/plain": [
       "<Figure size 750x750 with 1 Axes>"
      ]
     },
     "metadata": {},
     "output_type": "display_data"
    }
   ],
   "source": [
    "# check for outliers\n",
    "plt.rcParams[\"figure.figsize\"] = [7.50, 7.50]\n",
    "plt.rcParams[\"figure.autolayout\"] = True\n",
    "\n",
    "\n",
    "_, bp = pd.DataFrame.boxplot(newdf.claim, return_type='both')\n",
    "outliers = [flier.get_ydata() for flier in bp[\"fliers\"]]\n",
    "boxes = [box.get_ydata() for box in bp[\"boxes\"]]\n",
    "medians = [median.get_ydata() for median in bp[\"medians\"]]\n",
    "whiskers = [whiskers.get_ydata() for whiskers in bp[\"whiskers\"]]\n",
    "\n",
    "print(\"Outliers: \", outliers)\n",
    "outliers = np.array(outliers)\n",
    "print(outliers.shape)\n",
    "print(\"Boxes: \", boxes)\n",
    "print(\"Medians: \", medians)\n",
    "print(\"Whiskers: \", whiskers)\n",
    "\n",
    "plt.show()"
   ]
  },
  {
   "cell_type": "code",
   "execution_count": null,
   "metadata": {},
   "outputs": [],
   "source": []
  },
  {
   "cell_type": "code",
   "execution_count": 6,
   "metadata": {},
   "outputs": [
    {
     "name": "stderr",
     "output_type": "stream",
     "text": [
      "<ipython-input-6-0a3aa5f358d3>:4: SettingWithCopyWarning: \n",
      "A value is trying to be set on a copy of a slice from a DataFrame.\n",
      "Try using .loc[row_indexer,col_indexer] = value instead\n",
      "\n",
      "See the caveats in the documentation: https://pandas.pydata.org/pandas-docs/stable/user_guide/indexing.html#returning-a-view-versus-a-copy\n",
      "  newdf.gender = [Gender[item] for item in newdf['gender']]\n",
      "<ipython-input-6-0a3aa5f358d3>:5: SettingWithCopyWarning: \n",
      "A value is trying to be set on a copy of a slice from a DataFrame.\n",
      "Try using .loc[row_indexer,col_indexer] = value instead\n",
      "\n",
      "See the caveats in the documentation: https://pandas.pydata.org/pandas-docs/stable/user_guide/indexing.html#returning-a-view-versus-a-copy\n",
      "  newdf.diabetic = [boolean[item] for item in newdf.diabetic]\n",
      "<ipython-input-6-0a3aa5f358d3>:6: SettingWithCopyWarning: \n",
      "A value is trying to be set on a copy of a slice from a DataFrame.\n",
      "Try using .loc[row_indexer,col_indexer] = value instead\n",
      "\n",
      "See the caveats in the documentation: https://pandas.pydata.org/pandas-docs/stable/user_guide/indexing.html#returning-a-view-versus-a-copy\n",
      "  newdf.smoker = [boolean[item] for item in newdf.smoker]\n",
      "<ipython-input-6-0a3aa5f358d3>:7: SettingWithCopyWarning: \n",
      "A value is trying to be set on a copy of a slice from a DataFrame.\n",
      "Try using .loc[row_indexer,col_indexer] = value instead\n",
      "\n",
      "See the caveats in the documentation: https://pandas.pydata.org/pandas-docs/stable/user_guide/indexing.html#returning-a-view-versus-a-copy\n",
      "  newdf.region = [Region[item] for item in newdf.region]\n"
     ]
    }
   ],
   "source": []
  },
  {
   "cell_type": "code",
   "execution_count": 5,
   "metadata": {},
   "outputs": [
    {
     "name": "stdout",
     "output_type": "stream",
     "text": [
      "Outliers:  [array([34828.65, 34838.87, 35069.37, 35147.53, 35160.13, 35491.64,\n",
      "       35585.58, 35595.59, 36021.01, 36085.22, 36124.57, 36149.48,\n",
      "       36189.1, 36197.7, 36219.41, 36307.8, 36397.58, 36580.28, 36837.47,\n",
      "       36898.73, 36910.61, 36950.26, 37079.37, 37133.9, 37165.16,\n",
      "       37270.15, 37465.34, 37484.45, 37607.53, 37701.88, 37742.58,\n",
      "       37829.72, 38126.25, 38245.59, 38282.75, 38344.57, 38415.47,\n",
      "       38511.63, 38709.18, 38711.0, 38746.36, 38792.69, 38998.55,\n",
      "       39047.29, 39125.33, 39241.44, 39556.49, 39597.41, 39611.76,\n",
      "       39722.75, 39725.52, 39727.61, 39774.28, 39836.52, 39871.7,\n",
      "       39983.43, 40003.33, 40103.89, 40182.25, 40273.65, 40419.02,\n",
      "       40720.55, 40904.2, 40932.43, 40941.29, 40974.16, 41034.22,\n",
      "       41097.16, 41661.6, 41676.08, 41919.1, 41949.24, 41999.52, 42111.66,\n",
      "       42112.24, 42124.52, 42211.14, 42303.69, 42560.43, 42760.5,\n",
      "       42856.84, 42969.85, 42983.46, 43254.42, 43578.94, 43753.34,\n",
      "       43813.87, 43896.38, 43921.18, 43943.88, 44202.65, 44260.75,\n",
      "       44400.41, 44423.8, 44501.4, 44585.46, 44641.2, 45008.96, 45702.02,\n",
      "       45710.21, 45863.21, 46113.51, 46130.53, 46151.12, 46200.99,\n",
      "       46255.11, 46599.11, 46661.44, 46718.16, 46889.26, 47055.53,\n",
      "       47269.85, 47291.06, 47305.31, 47403.88, 47462.89, 47496.49,\n",
      "       47896.79, 47928.03, 48173.36, 48517.56, 48549.18, 48673.56,\n",
      "       48675.52, 48824.45, 48885.14, 48970.25, 49577.66, 51194.56,\n",
      "       52590.83, 55135.4, 58571.07, 60021.4, 62592.87, 63770.43],\n",
      "      dtype=object)]\n",
      "(1, 135)\n",
      "Boxes:  [array([ 4760.1575,  4760.1575, 16781.3275, 16781.3275,  4760.1575])]\n",
      "Medians:  [array([9412.965, 9412.965])]\n",
      "Whiskers:  [array([4760.1575, 1121.87  ]), array([16781.3275, 34806.47  ])]\n"
     ]
    },
    {
     "data": {
      "image/png": "[encoded data removed]",
      "text/plain": [
       "<Figure size 432x288 with 1 Axes>"
      ]
     },
     "metadata": {
      "needs_background": "light"
     },
     "output_type": "display_data"
    }
   ],
   "source": []
  },
  {
   "cell_type": "code",
   "execution_count": 10,
   "metadata": {},
   "outputs": [
    {
     "data": {
      "text/html": [
       "<div>\n",
       "<style scoped>\n",
       "    .dataframe tbody tr th:only-of-type {\n",
       "        vertical-align: middle;\n",
       "    }\n",
       "\n",
       "    .dataframe tbody tr th {\n",
       "        vertical-align: top;\n",
       "    }\n",
       "\n",
       "    .dataframe thead th {\n",
       "        text-align: right;\n",
       "    }\n",
       "</style>\n",
       "<table border=\"1\" class=\"dataframe\">\n",
       "  <thead>\n",
       "    <tr style=\"text-align: right;\">\n",
       "      <th></th>\n",
       "      <th>index</th>\n",
       "      <th>PatientID</th>\n",
       "      <th>age</th>\n",
       "      <th>gender</th>\n",
       "      <th>bmi</th>\n",
       "      <th>bloodpressure</th>\n",
       "      <th>diabetic</th>\n",
       "      <th>children</th>\n",
       "      <th>smoker</th>\n",
       "      <th>region</th>\n",
       "      <th>claim</th>\n",
       "    </tr>\n",
       "  </thead>\n",
       "  <tbody>\n",
       "    <tr>\n",
       "      <th>1333</th>\n",
       "      <td>1333</td>\n",
       "      <td>1334</td>\n",
       "      <td>44.0</td>\n",
       "      <td>0</td>\n",
       "      <td>36.4</td>\n",
       "      <td>127</td>\n",
       "      <td>1</td>\n",
       "      <td>1</td>\n",
       "      <td>0</td>\n",
       "      <td>3</td>\n",
       "      <td>51194.56</td>\n",
       "    </tr>\n",
       "    <tr>\n",
       "      <th>1334</th>\n",
       "      <td>1334</td>\n",
       "      <td>1335</td>\n",
       "      <td>43.0</td>\n",
       "      <td>0</td>\n",
       "      <td>32.8</td>\n",
       "      <td>125</td>\n",
       "      <td>1</td>\n",
       "      <td>0</td>\n",
       "      <td>0</td>\n",
       "      <td>3</td>\n",
       "      <td>52590.83</td>\n",
       "    </tr>\n",
       "    <tr>\n",
       "      <th>1335</th>\n",
       "      <td>1335</td>\n",
       "      <td>1336</td>\n",
       "      <td>44.0</td>\n",
       "      <td>1</td>\n",
       "      <td>35.5</td>\n",
       "      <td>88</td>\n",
       "      <td>0</td>\n",
       "      <td>0</td>\n",
       "      <td>0</td>\n",
       "      <td>4</td>\n",
       "      <td>55135.40</td>\n",
       "    </tr>\n",
       "    <tr>\n",
       "      <th>1336</th>\n",
       "      <td>1336</td>\n",
       "      <td>1337</td>\n",
       "      <td>59.0</td>\n",
       "      <td>1</td>\n",
       "      <td>38.1</td>\n",
       "      <td>120</td>\n",
       "      <td>1</td>\n",
       "      <td>1</td>\n",
       "      <td>0</td>\n",
       "      <td>2</td>\n",
       "      <td>58571.07</td>\n",
       "    </tr>\n",
       "    <tr>\n",
       "      <th>1337</th>\n",
       "      <td>1337</td>\n",
       "      <td>1338</td>\n",
       "      <td>30.0</td>\n",
       "      <td>0</td>\n",
       "      <td>34.5</td>\n",
       "      <td>91</td>\n",
       "      <td>0</td>\n",
       "      <td>3</td>\n",
       "      <td>0</td>\n",
       "      <td>4</td>\n",
       "      <td>60021.40</td>\n",
       "    </tr>\n",
       "    <tr>\n",
       "      <th>1338</th>\n",
       "      <td>1338</td>\n",
       "      <td>1339</td>\n",
       "      <td>37.0</td>\n",
       "      <td>0</td>\n",
       "      <td>30.4</td>\n",
       "      <td>106</td>\n",
       "      <td>1</td>\n",
       "      <td>0</td>\n",
       "      <td>0</td>\n",
       "      <td>1</td>\n",
       "      <td>62592.87</td>\n",
       "    </tr>\n",
       "    <tr>\n",
       "      <th>1339</th>\n",
       "      <td>1339</td>\n",
       "      <td>1340</td>\n",
       "      <td>30.0</td>\n",
       "      <td>1</td>\n",
       "      <td>47.4</td>\n",
       "      <td>101</td>\n",
       "      <td>1</td>\n",
       "      <td>0</td>\n",
       "      <td>0</td>\n",
       "      <td>1</td>\n",
       "      <td>63770.43</td>\n",
       "    </tr>\n",
       "  </tbody>\n",
       "</table>\n",
       "</div>"
      ],
      "text/plain": [
       "      index  PatientID   age  gender   bmi  bloodpressure  diabetic  children  \\\n",
       "1333   1333       1334  44.0       0  36.4            127         1         1   \n",
       "1334   1334       1335  43.0       0  32.8            125         1         0   \n",
       "1335   1335       1336  44.0       1  35.5             88         0         0   \n",
       "1336   1336       1337  59.0       1  38.1            120         1         1   \n",
       "1337   1337       1338  30.0       0  34.5             91         0         3   \n",
       "1338   1338       1339  37.0       0  30.4            106         1         0   \n",
       "1339   1339       1340  30.0       1  47.4            101         1         0   \n",
       "\n",
       "      smoker  region     claim  \n",
       "1333       0       3  51194.56  \n",
       "1334       0       3  52590.83  \n",
       "1335       0       4  55135.40  \n",
       "1336       0       2  58571.07  \n",
       "1337       0       4  60021.40  \n",
       "1338       0       1  62592.87  \n",
       "1339       0       1  63770.43  "
      ]
     },
     "execution_count": 10,
     "metadata": {},
     "output_type": "execute_result"
    }
   ],
   "source": [
    "outdata = newdf[newdf.claim >50000]\n",
    "outdata"
   ]
  },
  {
   "cell_type": "code",
   "execution_count": 159,
   "metadata": {},
   "outputs": [
    {
     "data": {
      "text/plain": [
       "<AxesSubplot: >"
      ]
     },
     "execution_count": 159,
     "metadata": {},
     "output_type": "execute_result"
    },
    {
     "data": {
      "image/png": "[encoded data removed]",
      "text/plain": [
       "<Figure size 540x540 with 1 Axes>"
      ]
     },
     "metadata": {
      "needs_background": "light"
     },
     "output_type": "display_data"
    }
   ],
   "source": []
  },
  {
   "cell_type": "code",
   "execution_count": 17,
   "metadata": {},
   "outputs": [],
   "source": [
    "# outdata\n",
    "# newdf.drop(newdf[newdf.claim]>50000)\n",
    "newdf = newdf[newdf.claim < 50000]"
   ]
  },
  {
   "cell_type": "code",
   "execution_count": null,
   "metadata": {},
   "outputs": [],
   "source": [
    "newdf"
   ]
  },
  {
   "cell_type": "code",
   "execution_count": null,
   "metadata": {},
   "outputs": [],
   "source": [
    "newdf.isna().sum()"
   ]
  },
  {
   "cell_type": "code",
   "execution_count": 18,
   "metadata": {},
   "outputs": [
    {
     "name": "stdout",
     "output_type": "stream",
     "text": [
      "(train) (test) new shape  = (993, 11) (332, 11)\n"
     ]
    }
   ],
   "source": [
    "train_data, test_data = train_test_split(newdf, test_size=0.25,random_state=13)\n",
    "print('(train) (test) new shape ',end=' = ')\n",
    "print(train_data.shape,test_data.shape)\n",
    "y_train, x_train = train_data.iloc[:,:1], train_data.iloc[:,1:]\n",
    "y_test, x_test = test_data.iloc[:,:1], test_data.iloc[:,1:]"
   ]
  },
  {
   "cell_type": "code",
   "execution_count": 19,
   "metadata": {},
   "outputs": [],
   "source": [
    "def scale_datasets(x_train,x_test):\n",
    "    \"\"\"\n",
    "    Standard Scale test and train data\n",
    "    Z-Score normalization\n",
    "    \"\"\"\n",
    "\n",
    "    standard_scaler = StandardScaler()\n",
    "    x_train_scaled = pd.DataFrame(\n",
    "        standard_scaler.fit_transform(x_train),\n",
    "        columns = x_train.columns\n",
    "    )\n",
    "    x_test_scaled = pd.DataFrame(\n",
    "        standard_scaler.transform(x_test),\n",
    "        columns= x_test.columns\n",
    "    )\n",
    "\n",
    "    return x_train_scaled, x_test_scaled\n",
    "\n",
    "x_train_scaled, x_test_scaled = scale_datasets(x_train,x_test)"
   ]
  },
  {
   "cell_type": "code",
   "execution_count": 20,
   "metadata": {},
   "outputs": [],
   "source": [
    "#Build the model\n",
    "hidden_units1 = 10\n",
    "hidden_units2 = 20\n",
    "hidden_units3 = 10\n",
    "hidden_units4 = 10\n",
    "# hidden_units5 = 576\n",
    "\n",
    "learning_rate = 0.08\n",
    "\n",
    "#Create the model using Sequential in tf\n",
    "def build_model_Sequential():\n",
    "    model = Sequential([\n",
    "        Dense(hidden_units1, kernel_initializer='normal', activation='relu'),\n",
    "        Dropout(0.2),\n",
    "        Dense(hidden_units2, kernel_initializer='normal', activation='relu'),\n",
    "        Dropout(0.2),\n",
    "        Dense(hidden_units3, kernel_initializer='normal', activation='relu'),\n",
    "        # Dropout(0.2),\n",
    "        # Dense(hidden_units4, kernel_initializer='normal', activation='relu'),\n",
    "        # Dropout(0.2),\n",
    "        # Dense(hidden_units5, kernel_initializer='normal', activation='relu'),\n",
    "\n",
    "        Dense(1, kernel_initializer='normal', activation='linear')\n",
    "    ])\n",
    "    return model\n"
   ]
  },
  {
   "cell_type": "code",
   "execution_count": 21,
   "metadata": {},
   "outputs": [],
   "source": [
    "\n",
    "model = build_model_Sequential()\n",
    "#loss function \n",
    "msle = MeanSquaredLogarithmicError()\n",
    "model.compile(\n",
    "    loss = msle,\n",
    "    # optimizer = 'SGD',\n",
    "    optimizer = Adam(learning_rate=learning_rate),\n",
    "    metrics = [msle]\n",
    ")"
   ]
  },
  {
   "cell_type": "code",
   "execution_count": 22,
   "metadata": {},
   "outputs": [
    {
     "name": "stdout",
     "output_type": "stream",
     "text": [
      "Epoch 1/20\n",
      "13/13 [==============================] - 2s 29ms/step - loss: 18.5783 - mean_squared_logarithmic_error: 17.8029 - val_loss: 1.0825 - val_mean_squared_logarithmic_error: 1.0508\n",
      "Epoch 2/20\n",
      "13/13 [==============================] - 0s 7ms/step - loss: 1.0937 - mean_squared_logarithmic_error: 1.1373 - val_loss: 1.3241 - val_mean_squared_logarithmic_error: 1.4003\n",
      "Epoch 3/20\n",
      "13/13 [==============================] - 0s 7ms/step - loss: 1.1641 - mean_squared_logarithmic_error: 1.1701 - val_loss: 0.7412 - val_mean_squared_logarithmic_error: 0.6801\n",
      "Epoch 4/20\n",
      "13/13 [==============================] - 0s 9ms/step - loss: 0.5223 - mean_squared_logarithmic_error: 0.5168 - val_loss: 0.3696 - val_mean_squared_logarithmic_error: 0.3729\n",
      "Epoch 5/20\n",
      "13/13 [==============================] - 0s 11ms/step - loss: 0.3110 - mean_squared_logarithmic_error: 0.3022 - val_loss: 0.1860 - val_mean_squared_logarithmic_error: 0.1905\n",
      "Epoch 6/20\n",
      "13/13 [==============================] - 0s 13ms/step - loss: 0.2392 - mean_squared_logarithmic_error: 0.2372 - val_loss: 0.1580 - val_mean_squared_logarithmic_error: 0.1605\n",
      "Epoch 7/20\n",
      "13/13 [==============================] - 0s 10ms/step - loss: 0.1946 - mean_squared_logarithmic_error: 0.1945 - val_loss: 0.1582 - val_mean_squared_logarithmic_error: 0.1563\n",
      "Epoch 8/20\n",
      "13/13 [==============================] - 0s 9ms/step - loss: 0.1752 - mean_squared_logarithmic_error: 0.1710 - val_loss: 0.1416 - val_mean_squared_logarithmic_error: 0.1388\n",
      "Epoch 9/20\n",
      "13/13 [==============================] - 0s 10ms/step - loss: 0.1541 - mean_squared_logarithmic_error: 0.1526 - val_loss: 0.1280 - val_mean_squared_logarithmic_error: 0.1262\n",
      "Epoch 10/20\n",
      "13/13 [==============================] - 0s 11ms/step - loss: 0.1520 - mean_squared_logarithmic_error: 0.1488 - val_loss: 0.1179 - val_mean_squared_logarithmic_error: 0.1140\n",
      "Epoch 11/20\n",
      "13/13 [==============================] - 0s 13ms/step - loss: 0.1438 - mean_squared_logarithmic_error: 0.1419 - val_loss: 0.1327 - val_mean_squared_logarithmic_error: 0.1249\n",
      "Epoch 12/20\n",
      "13/13 [==============================] - 0s 12ms/step - loss: 0.1325 - mean_squared_logarithmic_error: 0.1316 - val_loss: 0.1159 - val_mean_squared_logarithmic_error: 0.1131\n",
      "Epoch 13/20\n",
      "13/13 [==============================] - 0s 10ms/step - loss: 0.1294 - mean_squared_logarithmic_error: 0.1317 - val_loss: 0.1060 - val_mean_squared_logarithmic_error: 0.0983\n",
      "Epoch 14/20\n",
      "13/13 [==============================] - 0s 9ms/step - loss: 0.1265 - mean_squared_logarithmic_error: 0.1295 - val_loss: 0.1108 - val_mean_squared_logarithmic_error: 0.1032\n",
      "Epoch 15/20\n",
      "13/13 [==============================] - 0s 6ms/step - loss: 0.1329 - mean_squared_logarithmic_error: 0.1327 - val_loss: 0.0955 - val_mean_squared_logarithmic_error: 0.0852\n",
      "Epoch 16/20\n",
      "13/13 [==============================] - 0s 9ms/step - loss: 0.1140 - mean_squared_logarithmic_error: 0.1117 - val_loss: 0.1136 - val_mean_squared_logarithmic_error: 0.1182\n",
      "Epoch 17/20\n",
      "13/13 [==============================] - 0s 10ms/step - loss: 0.1198 - mean_squared_logarithmic_error: 0.1225 - val_loss: 0.0973 - val_mean_squared_logarithmic_error: 0.0892\n",
      "Epoch 18/20\n",
      "13/13 [==============================] - 0s 11ms/step - loss: 0.1201 - mean_squared_logarithmic_error: 0.1204 - val_loss: 0.0934 - val_mean_squared_logarithmic_error: 0.0849\n",
      "Epoch 19/20\n",
      "13/13 [==============================] - 0s 11ms/step - loss: 0.1149 - mean_squared_logarithmic_error: 0.1159 - val_loss: 0.0903 - val_mean_squared_logarithmic_error: 0.0899\n",
      "Epoch 20/20\n",
      "13/13 [==============================] - 0s 12ms/step - loss: 0.1020 - mean_squared_logarithmic_error: 0.1019 - val_loss: 0.0785 - val_mean_squared_logarithmic_error: 0.0697\n"
     ]
    }
   ],
   "source": [
    "#train the model\n",
    "history = model.fit(\n",
    "    x_train_scaled.values,\n",
    "    y_train.values,\n",
    "    epochs=20,\n",
    "    batch_size=64,\n",
    "    validation_split= 0.2\n",
    ")"
   ]
  },
  {
   "cell_type": "code",
   "execution_count": 23,
   "metadata": {},
   "outputs": [
    {
     "data": {
      "image/png": "[encoded data removed]",
      "text/plain": [
       "<Figure size 750x750 with 1 Axes>"
      ]
     },
     "metadata": {},
     "output_type": "display_data"
    },
    {
     "name": "stdout",
     "output_type": "stream",
     "text": [
      "11/11 [==============================] - 0s 800us/step\n"
     ]
    }
   ],
   "source": [
    "def plot_history(history,key):\n",
    "    plt.plot(history.history[key])\n",
    "    plt.plot(history.history['val_'+key])\n",
    "    plt.xlabel(\"epochs\")\n",
    "    plt.ylabel(\"key\")\n",
    "    plt.legend([key,'val_'+key])\n",
    "    plt.show()\n",
    "\n",
    "plot_history(history,'mean_squared_logarithmic_error')\n",
    "\n",
    "## predict and save prediction\n",
    "x_test['prediction'] = model.predict(x_test_scaled)"
   ]
  },
  {
   "cell_type": "code",
   "execution_count": 24,
   "metadata": {},
   "outputs": [
    {
     "name": "stdout",
     "output_type": "stream",
     "text": [
      "Error check:- \n",
      "meanabsolute = 50.31871025820813\n",
      "meansquared = 4903.698488763704\n",
      "rootmeansq = 70.02641279377164\n",
      "R^2 value = 0.9674584737933051\n"
     ]
    }
   ],
   "source": [
    "print('Error check:- \\nmeanabsolute = {0}\\nmeansquared = {1}\\nrootmeansq = {2}\\nR^2 value = {3}'.format(mean_absolute_error(y_test,x_test['prediction']),\n",
    "                                                                     mean_squared_error(y_test,x_test['prediction']),\n",
    "                                                                     np.sqrt(mean_squared_error(y_test,x_test['prediction'])),\n",
    "                                                                     r2_score(y_test,x_test['prediction'])\n",
    "                                                                     ))"
   ]
  },
  {
   "cell_type": "code",
   "execution_count": 25,
   "metadata": {},
   "outputs": [
    {
     "data": {
      "image/png": "[encoded data removed]",
      "text/plain": [
       "<Figure size 750x750 with 1 Axes>"
      ]
     },
     "metadata": {},
     "output_type": "display_data"
    }
   ],
   "source": [
    "def plot_history(history,key):\n",
    "    plt.plot(history.history['loss'])\n",
    "    plt.plot(history.history['val_loss'])\n",
    "    plt.xlabel(\"epochs\")\n",
    "    plt.ylabel(\"key\")\n",
    "    plt.legend(['loss','val_loss'])\n",
    "    plt.show()\n",
    "\n",
    "plot_history(history,'mean_squared_logarithmic_error')\n",
    "\n",
    "## predict and save prediction\n",
    "# x_test['prediction'] = model.predict(x_test)"
   ]
  },
  {
   "cell_type": "code",
   "execution_count": null,
   "metadata": {},
   "outputs": [],
   "source": []
  },
  {
   "cell_type": "code",
   "execution_count": null,
   "metadata": {},
   "outputs": [],
   "source": []
  }
 ],
 "metadata": {
  "kernelspec": {
   "display_name": "Python 3",
   "language": "python",
   "name": "python3"
  },
  "language_info": {
   "codemirror_mode": {
    "name": "ipython",
    "version": 3
   },
   "file_extension": ".py",
   "mimetype": "text/x-python",
   "name": "python",
   "nbconvert_exporter": "python",
   "pygments_lexer": "ipython3",
   "version": "3.9.4"
  },
  "orig_nbformat": 4
 },
 "nbformat": 4,
 "nbformat_minor": 2
}
